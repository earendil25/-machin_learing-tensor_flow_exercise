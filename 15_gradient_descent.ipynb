{
 "cells": [
  {
   "cell_type": "code",
   "execution_count": 26,
   "metadata": {},
   "outputs": [],
   "source": [
    "import numpy as np"
   ]
  },
  {
   "cell_type": "code",
   "execution_count": 28,
   "metadata": {},
   "outputs": [],
   "source": [
    "def f(x):\n",
    "    return 0.1*x**4 - 1.5*x**3 + 0.6*x**2 +1.0*x + 20.0\n",
    "\n",
    "def df_dx(x):\n",
    "    return 0.4*x**3 - 4.5*x**2 + 1.2*x +1.0"
   ]
  },
  {
   "cell_type": "code",
   "execution_count": 35,
   "metadata": {},
   "outputs": [],
   "source": [
    "x = -5\n",
    "eps = 1e-5\n",
    "lr = 0.01\n",
    "max_epoch = 1000"
   ]
  },
  {
   "cell_type": "code",
   "execution_count": 46,
   "metadata": {},
   "outputs": [],
   "source": [
    "def gradient_descent(initial_x,\n",
    "                     max_epoch=1000,\n",
    "                     learning_rate = 0.01,\n",
    "                     eps = 1e-5):\n",
    "    x = initial_x\n",
    "    eps = eps\n",
    "    lr = learning_rate\n",
    "    \n",
    "    x_log = [x]\n",
    "    \n",
    "    min_x = x\n",
    "    min_y = f(min_x)\n",
    "\n",
    "    for _ in range(max_epoch):\n",
    "        grad = df_dx(x)\n",
    "        new_x = x - lr * grad\n",
    "        y = f(new_x)\n",
    "        \n",
    "        x_log.append(new_x)\n",
    "\n",
    "        if min_y > y:\n",
    "            min_x, min_y = new_x, y\n",
    "\n",
    "        if np.abs(x - new_x) < eps:\n",
    "            break\n",
    "\n",
    "        x = new_x\n",
    "        \n",
    "    return min_x, min_y, x_log"
   ]
  },
  {
   "cell_type": "code",
   "execution_count": 52,
   "metadata": {},
   "outputs": [],
   "source": [
    "min_x1, min_y1, x_log1 = gradient_descent(5)\n",
    "min_x2, min_y2, x_log2 = gradient_descent(-5)\n",
    "\n",
    "y_log1 = f(np.array(x_log1))\n",
    "y_log2 = f(np.array(x_log2))"
   ]
  },
  {
   "cell_type": "code",
   "execution_count": 57,
   "metadata": {},
   "outputs": [],
   "source": [
    "import matplotlib.pyplot as plt"
   ]
  },
  {
   "cell_type": "code",
   "execution_count": 62,
   "metadata": {},
   "outputs": [
    {
     "data": {
      "image/png": "[encoded data removed]",
      "text/plain": [
       "<Figure size 432x288 with 1 Axes>"
      ]
     },
     "metadata": {
      "needs_background": "light"
     },
     "output_type": "display_data"
    }
   ],
   "source": [
    "plt.plot(x_log1,y_log1,'.-')\n",
    "plt.plot(x_log2,y_log2,'.-')\n",
    "plt.show()"
   ]
  },
  {
   "cell_type": "code",
   "execution_count": 70,
   "metadata": {},
   "outputs": [
    {
     "data": {
      "text/plain": [
       "[<matplotlib.lines.Line2D at 0x2d02c7c6b48>]"
      ]
     },
     "execution_count": 70,
     "metadata": {},
     "output_type": "execute_result"
    },
    {
     "data": {
      "image/png": "[encoded data removed]",
      "text/plain": [
       "<Figure size 432x288 with 1 Axes>"
      ]
     },
     "metadata": {
      "needs_background": "light"
     },
     "output_type": "display_data"
    }
   ],
   "source": [
    "plt.plot(np.arange(-10,20,0.1),f(np.arange(-10,20,0.1)) )"
   ]
  },
  {
   "cell_type": "code",
   "execution_count": null,
   "metadata": {},
   "outputs": [],
   "source": []
  },
  {
   "cell_type": "code",
   "execution_count": null,
   "metadata": {},
   "outputs": [],
   "source": []
  }
 ],
 "metadata": {
  "kernelspec": {
   "display_name": "Python 3",
   "language": "python",
   "name": "python3"
  },
  "language_info": {
   "codemirror_mode": {
    "name": "ipython",
    "version": 3
   },
   "file_extension": ".py",
   "mimetype": "text/x-python",
   "name": "python",
   "nbconvert_exporter": "python",
   "pygments_lexer": "ipython3",
   "version": "3.7.9"
  }
 },
 "nbformat": 4,
 "nbformat_minor": 4
}
