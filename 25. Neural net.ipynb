{
 "cells": [
  {
   "cell_type": "code",
   "execution_count": 1,
   "metadata": {},
   "outputs": [],
   "source": [
    "import tensorflow as tf"
   ]
  },
  {
   "cell_type": "code",
   "execution_count": 2,
   "metadata": {},
   "outputs": [],
   "source": [
    "EPOCHS = 50"
   ]
  },
  {
   "cell_type": "code",
   "execution_count": 3,
   "metadata": {},
   "outputs": [],
   "source": [
    "class MyModel(tf.keras.Model):\n",
    "    def __init__(self):\n",
    "        super().__init__()\n",
    "        self.flatten = tf.keras.layers.Flatten(input_shape=(28, 28))\n",
    "        self.dense1 = tf.keras.layers.Dense(32, activation = 'relu')\n",
    "        self.dense2 = tf.keras.layers.Dense(64, activation = 'relu')\n",
    "        self.dense3 = tf.keras.layers.Dense(128, activation = 'relu')\n",
    "        self.dense4 = tf.keras.layers.Dense(256, activation = 'relu')\n",
    "        self.dense5 = tf.keras.layers.Dense(10, activation = 'softmax')\n",
    "        \n",
    "    def call(self, x, training=None, mask=None):\n",
    "        x = self.flatten(x)\n",
    "        x = self.dense1(x)\n",
    "        x = self.dense2(x)\n",
    "        x = self.dense3(x)\n",
    "        x = self.dense4(x)\n",
    "        x = self.dense5(x)\n",
    "        return x"
   ]
  },
  {
   "cell_type": "code",
   "execution_count": 4,
   "metadata": {},
   "outputs": [],
   "source": [
    "@tf.function\n",
    "def train_step(model, images, labels, loss_object, optimizer, \n",
    "               train_loss, train_accuracy):\n",
    "    with tf.GradientTape() as tape:\n",
    "        predictions = model(images)\n",
    "        loss = loss_object(labels, predictions)\n",
    "        \n",
    "    gradients = tape.gradient(loss, model.trainable_variables)\n",
    "    optimizer.apply_gradients(zip(gradients, model.trainable_variables))\n",
    "    \n",
    "    train_loss(loss)\n",
    "    train_accuracy(labels, predictions)"
   ]
  },
  {
   "cell_type": "code",
   "execution_count": 5,
   "metadata": {},
   "outputs": [],
   "source": [
    "@tf.function\n",
    "def test_step(model, images, labels, loss_object, test_loss, test_accuracy):\n",
    "    predictions = model(images)\n",
    "    loss = loss_object(labels, predictions)\n",
    "    \n",
    "    test_loss(loss)\n",
    "    test_accuracy(labels, predictions)"
   ]
  },
  {
   "cell_type": "code",
   "execution_count": 6,
   "metadata": {},
   "outputs": [],
   "source": [
    "mnist = tf.keras.datasets.mnist\n",
    "\n",
    "(x_train, y_train), (x_test, y_test) = mnist.load_data()\n",
    "x_train, x_test = x_train/255.0, x_test/255.0\n",
    "\n",
    "train_ds = tf.data.Dataset.from_tensor_slices((x_train, y_train)).shuffle(1024).batch(32)\n",
    "test_ds = tf.data.Dataset.from_tensor_slices((x_test, y_test)).batch(32)"
   ]
  },
  {
   "cell_type": "code",
   "execution_count": 7,
   "metadata": {},
   "outputs": [],
   "source": [
    "model = MyModel()"
   ]
  },
  {
   "cell_type": "code",
   "execution_count": 8,
   "metadata": {},
   "outputs": [],
   "source": [
    "loss_object = tf.keras.losses.SparseCategoricalCrossentropy()\n",
    "optimizer = tf.keras.optimizers.Adam()"
   ]
  },
  {
   "cell_type": "code",
   "execution_count": 9,
   "metadata": {},
   "outputs": [],
   "source": [
    "train_loss = tf.keras.metrics.Mean(name = 'train_loss')\n",
    "train_accuracy = tf.keras.metrics.SparseCategoricalAccuracy(name = 'train_accuracy')\n",
    "\n",
    "test_loss = tf.keras. metrics.Mean(name = 'test_loss')\n",
    "test_accuracy = tf.keras.metrics.SparseCategoricalAccuracy(name = 'test_accuracy')"
   ]
  },
  {
   "cell_type": "code",
   "execution_count": 10,
   "metadata": {},
   "outputs": [
    {
     "name": "stdout",
     "output_type": "stream",
     "text": [
      "WARNING:tensorflow:Layer my_model is casting an input tensor from dtype float64 to the layer's dtype of float32, which is new behavior in TensorFlow 2.  The layer has dtype float32 because it's dtype defaults to floatx.\n",
      "\n",
      "If you intended to run this layer in float32, you can safely ignore this warning. If in doubt, this warning is likely only an issue if you are porting a TensorFlow 1.X model to TensorFlow 2.\n",
      "\n",
      "To change all layers to have dtype float64 by default, call `tf.keras.backend.set_floatx('float64')`. To change just this layer, pass dtype='float64' to the layer constructor. If you are the author of this layer, you can disable autocasting by passing autocast=False to the base Layer constructor.\n",
      "\n",
      "Epoch: 1, Loss: 0.2844870388507843, Acc: 0.9128833413124084, Test loss: 0.14784498512744904, Test acc: 0.954200029373169\n",
      "Epoch: 2, Loss: 0.13875465095043182, Acc: 0.9578333497047424, Test loss: 0.14576804637908936, Test acc: 0.9559999704360962\n",
      "Epoch: 3, Loss: 0.11253589391708374, Acc: 0.965316653251648, Test loss: 0.12211008369922638, Test acc: 0.963699996471405\n",
      "Epoch: 4, Loss: 0.09266027063131332, Acc: 0.9705333113670349, Test loss: 0.12939980626106262, Test acc: 0.9613999724388123\n",
      "Epoch: 5, Loss: 0.07727212458848953, Acc: 0.9753000140190125, Test loss: 0.12776410579681396, Test acc: 0.9635000228881836\n",
      "Epoch: 6, Loss: 0.0686500072479248, Acc: 0.9772666692733765, Test loss: 0.14852862060070038, Test acc: 0.9595999717712402\n",
      "Epoch: 7, Loss: 0.06425575911998749, Acc: 0.9797499775886536, Test loss: 0.1237669512629509, Test acc: 0.9659000039100647\n",
      "Epoch: 8, Loss: 0.05553850531578064, Acc: 0.9816666841506958, Test loss: 0.13779065012931824, Test acc: 0.9624999761581421\n",
      "Epoch: 9, Loss: 0.05018097907304764, Acc: 0.9836999773979187, Test loss: 0.12314586341381073, Test acc: 0.9682000279426575\n",
      "Epoch: 10, Loss: 0.04659494385123253, Acc: 0.9844499826431274, Test loss: 0.13390743732452393, Test acc: 0.9675999879837036\n",
      "Epoch: 11, Loss: 0.04269350692629814, Acc: 0.9857500195503235, Test loss: 0.12564578652381897, Test acc: 0.9703999757766724\n",
      "Epoch: 12, Loss: 0.04025547578930855, Acc: 0.9868666529655457, Test loss: 0.14295966923236847, Test acc: 0.9681000113487244\n",
      "Epoch: 13, Loss: 0.03799806162714958, Acc: 0.9875333309173584, Test loss: 0.13527941703796387, Test acc: 0.9692999720573425\n",
      "Epoch: 14, Loss: 0.03497527539730072, Acc: 0.9879166483879089, Test loss: 0.13918273150920868, Test acc: 0.9710999727249146\n",
      "Epoch: 15, Loss: 0.03274121135473251, Acc: 0.9891999959945679, Test loss: 0.15755662322044373, Test acc: 0.9672999978065491\n",
      "Epoch: 16, Loss: 0.03178545460104942, Acc: 0.9893166422843933, Test loss: 0.14244745671749115, Test acc: 0.9699000120162964\n",
      "Epoch: 17, Loss: 0.02965497598052025, Acc: 0.9906166791915894, Test loss: 0.16232988238334656, Test acc: 0.9689000248908997\n",
      "Epoch: 18, Loss: 0.02963063307106495, Acc: 0.9902999997138977, Test loss: 0.1508389264345169, Test acc: 0.9726999998092651\n",
      "Epoch: 19, Loss: 0.02777225337922573, Acc: 0.9906833171844482, Test loss: 0.16375809907913208, Test acc: 0.9710999727249146\n",
      "Epoch: 20, Loss: 0.027593621984124184, Acc: 0.9915833473205566, Test loss: 0.15396840870380402, Test acc: 0.9713000059127808\n",
      "Epoch: 21, Loss: 0.02647649496793747, Acc: 0.9914666414260864, Test loss: 0.14771156013011932, Test acc: 0.97079998254776\n",
      "Epoch: 22, Loss: 0.02511325106024742, Acc: 0.9920333623886108, Test loss: 0.15239526331424713, Test acc: 0.9711999893188477\n",
      "Epoch: 23, Loss: 0.024817582219839096, Acc: 0.9918166399002075, Test loss: 0.1540667712688446, Test acc: 0.9708999991416931\n",
      "Epoch: 24, Loss: 0.024011848494410515, Acc: 0.9925833344459534, Test loss: 0.18870234489440918, Test acc: 0.9715999960899353\n",
      "Epoch: 25, Loss: 0.02418510615825653, Acc: 0.9927499890327454, Test loss: 0.19600653648376465, Test acc: 0.9670000076293945\n",
      "Epoch: 26, Loss: 0.022551413625478745, Acc: 0.9926166534423828, Test loss: 0.18739353120326996, Test acc: 0.9682999849319458\n",
      "Epoch: 27, Loss: 0.022684574127197266, Acc: 0.9928500056266785, Test loss: 0.18985790014266968, Test acc: 0.9699000120162964\n",
      "Epoch: 28, Loss: 0.02681541256606579, Acc: 0.9920499920845032, Test loss: 0.14627091586589813, Test acc: 0.972000002861023\n",
      "Epoch: 29, Loss: 0.019734960049390793, Acc: 0.9937666654586792, Test loss: 0.15930475294589996, Test acc: 0.9715999960899353\n",
      "Epoch: 30, Loss: 0.020098712295293808, Acc: 0.9935833215713501, Test loss: 0.18425841629505157, Test acc: 0.9700000286102295\n",
      "Epoch: 31, Loss: 0.021877577528357506, Acc: 0.9937166571617126, Test loss: 0.1669827103614807, Test acc: 0.9696999788284302\n",
      "Epoch: 32, Loss: 0.020270971581339836, Acc: 0.9935166835784912, Test loss: 0.1856721043586731, Test acc: 0.9735000133514404\n",
      "Epoch: 33, Loss: 0.020284047350287437, Acc: 0.9937333464622498, Test loss: 0.17944224178791046, Test acc: 0.9731000065803528\n",
      "Epoch: 34, Loss: 0.020375151187181473, Acc: 0.9938166737556458, Test loss: 0.17016685009002686, Test acc: 0.9745000004768372\n",
      "Epoch: 35, Loss: 0.019011588767170906, Acc: 0.9944333434104919, Test loss: 0.24220693111419678, Test acc: 0.9571999907493591\n",
      "Epoch: 36, Loss: 0.021268943324685097, Acc: 0.9937333464622498, Test loss: 0.18136386573314667, Test acc: 0.9739999771118164\n",
      "Epoch: 37, Loss: 0.02033214457333088, Acc: 0.9939333200454712, Test loss: 0.17539356648921967, Test acc: 0.973800003528595\n",
      "Epoch: 38, Loss: 0.01636025682091713, Acc: 0.995033323764801, Test loss: 0.2264488935470581, Test acc: 0.9710999727249146\n",
      "Epoch: 39, Loss: 0.019430721178650856, Acc: 0.9943166375160217, Test loss: 0.18895870447158813, Test acc: 0.9715999960899353\n",
      "Epoch: 40, Loss: 0.019187910482287407, Acc: 0.994350016117096, Test loss: 0.1909857988357544, Test acc: 0.9732000231742859\n",
      "Epoch: 41, Loss: 0.018427615985274315, Acc: 0.9945999979972839, Test loss: 0.21615849435329437, Test acc: 0.9700999855995178\n",
      "Epoch: 42, Loss: 0.01823543570935726, Acc: 0.9948166608810425, Test loss: 0.20807011425495148, Test acc: 0.9728000164031982\n",
      "Epoch: 43, Loss: 0.017667099833488464, Acc: 0.9945833086967468, Test loss: 0.21405889093875885, Test acc: 0.9731000065803528\n",
      "Epoch: 44, Loss: 0.020370103418827057, Acc: 0.9944166541099548, Test loss: 0.24315433204174042, Test acc: 0.9696999788284302\n",
      "Epoch: 45, Loss: 0.01589186117053032, Acc: 0.9954333305358887, Test loss: 0.27072709798812866, Test acc: 0.9684000015258789\n",
      "Epoch: 46, Loss: 0.017881134524941444, Acc: 0.9949333071708679, Test loss: 0.22563838958740234, Test acc: 0.9682000279426575\n",
      "Epoch: 47, Loss: 0.019791070371866226, Acc: 0.9944166541099548, Test loss: 0.2068243771791458, Test acc: 0.9732999801635742\n",
      "Epoch: 48, Loss: 0.01634368672966957, Acc: 0.995199978351593, Test loss: 0.23493267595767975, Test acc: 0.97079998254776\n",
      "Epoch: 49, Loss: 0.01809602975845337, Acc: 0.9950500130653381, Test loss: 0.2118857353925705, Test acc: 0.972100019454956\n",
      "Epoch: 50, Loss: 0.016353003680706024, Acc: 0.994949996471405, Test loss: 0.23382537066936493, Test acc: 0.9707000255584717\n"
     ]
    }
   ],
   "source": [
    "for epoch in range(EPOCHS):\n",
    "    for images, labels in train_ds:\n",
    "        train_step(model, images, labels, loss_object, optimizer, \n",
    "               train_loss, train_accuracy)\n",
    "        \n",
    "    for images, labels in test_ds:\n",
    "        test_step(model, images, labels, loss_object, test_loss, test_accuracy)\n",
    "        \n",
    "    template = 'Epoch: {}, Loss: {}, Acc: {}, Test loss: {}, Test acc: {}'\n",
    "    print(template.format(epoch+1,\n",
    "                          train_loss.result(),\n",
    "                         train_accuracy.result(),\n",
    "                         test_loss.result(),\n",
    "                         test_accuracy.result()))\n",
    "    \n",
    "    train_loss.reset_states()\n",
    "    train_accuracy.reset_states()\n",
    "    test_loss.reset_states()\n",
    "    test_accuracy.reset_states()"
   ]
  },
  {
   "cell_type": "code",
   "execution_count": null,
   "metadata": {},
   "outputs": [],
   "source": []
  },
  {
   "cell_type": "code",
   "execution_count": null,
   "metadata": {},
   "outputs": [],
   "source": []
  },
  {
   "cell_type": "code",
   "execution_count": null,
   "metadata": {},
   "outputs": [],
   "source": []
  },
  {
   "cell_type": "code",
   "execution_count": null,
   "metadata": {},
   "outputs": [],
   "source": []
  },
  {
   "cell_type": "code",
   "execution_count": null,
   "metadata": {},
   "outputs": [],
   "source": []
  },
  {
   "cell_type": "code",
   "execution_count": null,
   "metadata": {},
   "outputs": [],
   "source": []
  },
  {
   "cell_type": "code",
   "execution_count": null,
   "metadata": {},
   "outputs": [],
   "source": []
  },
  {
   "cell_type": "code",
   "execution_count": null,
   "metadata": {},
   "outputs": [],
   "source": []
  }
 ],
 "metadata": {
  "kernelspec": {
   "display_name": "Python 3",
   "language": "python",
   "name": "python3"
  },
  "language_info": {
   "codemirror_mode": {
    "name": "ipython",
    "version": 3
   },
   "file_extension": ".py",
   "mimetype": "text/x-python",
   "name": "python",
   "nbconvert_exporter": "python",
   "pygments_lexer": "ipython3",
   "version": "3.7.9"
  }
 },
 "nbformat": 4,
 "nbformat_minor": 4
}
