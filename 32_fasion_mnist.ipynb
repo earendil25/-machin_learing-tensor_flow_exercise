{
 "cells": [
  {
   "cell_type": "code",
   "execution_count": 1,
   "metadata": {},
   "outputs": [],
   "source": [
    "import tensorflow as tf\n",
    "import numpy as np\n",
    "import matplotlib.pyplot as plt"
   ]
  },
  {
   "cell_type": "code",
   "execution_count": 2,
   "metadata": {},
   "outputs": [],
   "source": [
    "class MyModel(tf.keras.Model):\n",
    "    def __init__(self):\n",
    "        super(MyModel, self).__init__()\n",
    "        self.flatten = tf.keras.layers.Flatten()\n",
    "        self.dense1 = tf.keras.layers.Dense(128, activation = 'relu')\n",
    "        self.dropout1 = tf.keras.layers.Dropout(0.25)\n",
    "        self.dense2 = tf.keras.layers.Dense(128, activation = 'relu')\n",
    "        self.dropout2 = tf.keras.layers.Dropout(0.25)\n",
    "        self.dense3 = tf.keras.layers.Dense(128, activation = 'relu')\n",
    "        self.dropout3 = tf.keras.layers.Dropout(0.25)\n",
    "        self.dense4 = tf.keras.layers.Dense(128, activation = 'relu')\n",
    "        self.dropout4 = tf.keras.layers.Dropout(0.25)\n",
    "        self.dense5 = tf.keras.layers.Dense(10, activation = 'softmax')\n",
    "        \n",
    "    def call(self, x, training = False, mask = None):\n",
    "        h = self.flatten(x)\n",
    "        h = self.dense1(h)\n",
    "        h = self.dropout1(h)\n",
    "        h = self.dense2(h)\n",
    "        h = self.dropout2(h)\n",
    "        h = self.dense3(h)\n",
    "        h = self.dropout3(h)\n",
    "        h = self.dense4(h)\n",
    "        h = self.dropout4(h)\n",
    "        return self.dense5(h)"
   ]
  },
  {
   "cell_type": "code",
   "execution_count": 3,
   "metadata": {},
   "outputs": [],
   "source": [
    "fashion_mnist = tf.keras.datasets.fashion_mnist\n",
    "\n",
    "(x_train, y_train), (x_test, y_test) = fashion_mnist.load_data()\n",
    "x_train, x_test = x_train/255.0, x_test/255.0\n",
    "\n",
    "x_train = x_train.astype(np.float32)\n",
    "x_test = x_test.astype(np.float32)\n",
    "\n",
    "train_ds = tf.data.Dataset.from_tensor_slices((x_train, y_train)).shuffle(10000).batch(32).prefetch(2048)\n",
    "test_ds = tf.data.Dataset.from_tensor_slices((x_test, y_test)).batch(32).prefetch(2048)"
   ]
  },
  {
   "cell_type": "code",
   "execution_count": 4,
   "metadata": {},
   "outputs": [],
   "source": [
    "model = MyModel()\n",
    "\n",
    "model.compile(optimizer = 'adam',\n",
    "             loss = 'sparse_categorical_crossentropy',\n",
    "             metrics = ['accuracy'])"
   ]
  },
  {
   "cell_type": "code",
   "execution_count": 5,
   "metadata": {},
   "outputs": [],
   "source": [
    "stopper = tf.keras.callbacks.EarlyStopping(monitor='val_loss', patience=10, verbose=1)"
   ]
  },
  {
   "cell_type": "code",
   "execution_count": 6,
   "metadata": {},
   "outputs": [
    {
     "name": "stdout",
     "output_type": "stream",
     "text": [
      "Epoch 1/50\n",
      "1875/1875 [==============================] - 7s 4ms/step - loss: 0.6618 - accuracy: 0.7613 - val_loss: 0.0000e+00 - val_accuracy: 0.0000e+00\n",
      "Epoch 2/50\n",
      "1875/1875 [==============================] - 4s 2ms/step - loss: 0.4766 - accuracy: 0.8317 - val_loss: 0.4274 - val_accuracy: 0.8435\n",
      "Epoch 3/50\n",
      "1875/1875 [==============================] - 4s 2ms/step - loss: 0.4442 - accuracy: 0.8427 - val_loss: 0.4001 - val_accuracy: 0.8572\n",
      "Epoch 4/50\n",
      "1875/1875 [==============================] - 4s 2ms/step - loss: 0.4179 - accuracy: 0.8520 - val_loss: 0.3871 - val_accuracy: 0.8572\n",
      "Epoch 5/50\n",
      "1875/1875 [==============================] - 4s 2ms/step - loss: 0.4021 - accuracy: 0.8564 - val_loss: 0.3815 - val_accuracy: 0.8656\n",
      "Epoch 6/50\n",
      "1875/1875 [==============================] - 4s 2ms/step - loss: 0.3913 - accuracy: 0.8594 - val_loss: 0.3804 - val_accuracy: 0.8640\n",
      "Epoch 7/50\n",
      "1875/1875 [==============================] - 4s 2ms/step - loss: 0.3835 - accuracy: 0.8625 - val_loss: 0.3744 - val_accuracy: 0.8671\n",
      "Epoch 8/50\n",
      "1875/1875 [==============================] - 4s 2ms/step - loss: 0.3748 - accuracy: 0.8652 - val_loss: 0.3666 - val_accuracy: 0.8686\n",
      "Epoch 9/50\n",
      "1875/1875 [==============================] - 5s 2ms/step - loss: 0.3685 - accuracy: 0.8669 - val_loss: 0.3725 - val_accuracy: 0.8673\n",
      "Epoch 10/50\n",
      "1875/1875 [==============================] - 4s 2ms/step - loss: 0.3622 - accuracy: 0.8700 - val_loss: 0.3683 - val_accuracy: 0.8707\n",
      "Epoch 11/50\n",
      "1875/1875 [==============================] - 4s 2ms/step - loss: 0.3592 - accuracy: 0.8723 - val_loss: 0.3784 - val_accuracy: 0.8691\n",
      "Epoch 12/50\n",
      "1875/1875 [==============================] - 5s 3ms/step - loss: 0.3552 - accuracy: 0.8714 - val_loss: 0.3609 - val_accuracy: 0.8734\n",
      "Epoch 13/50\n",
      "1875/1875 [==============================] - 4s 2ms/step - loss: 0.3495 - accuracy: 0.8747 - val_loss: 0.3558 - val_accuracy: 0.8738\n",
      "Epoch 14/50\n",
      "1875/1875 [==============================] - 4s 2ms/step - loss: 0.3437 - accuracy: 0.8754 - val_loss: 0.3640 - val_accuracy: 0.8682\n",
      "Epoch 15/50\n",
      "1875/1875 [==============================] - 4s 2ms/step - loss: 0.3400 - accuracy: 0.8780 - val_loss: 0.3438 - val_accuracy: 0.8765\n",
      "Epoch 16/50\n",
      "1875/1875 [==============================] - 4s 2ms/step - loss: 0.3385 - accuracy: 0.8779 - val_loss: 0.3560 - val_accuracy: 0.8721\n",
      "Epoch 17/50\n",
      "1875/1875 [==============================] - 4s 2ms/step - loss: 0.3330 - accuracy: 0.8800 - val_loss: 0.3575 - val_accuracy: 0.8766\n",
      "Epoch 18/50\n",
      "1875/1875 [==============================] - 4s 2ms/step - loss: 0.3284 - accuracy: 0.8826 - val_loss: 0.3508 - val_accuracy: 0.8756\n",
      "Epoch 19/50\n",
      "1875/1875 [==============================] - 4s 2ms/step - loss: 0.3254 - accuracy: 0.8825 - val_loss: 0.3614 - val_accuracy: 0.8742\n",
      "Epoch 20/50\n",
      "1875/1875 [==============================] - 4s 2ms/step - loss: 0.3276 - accuracy: 0.8826 - val_loss: 0.3489 - val_accuracy: 0.8762\n",
      "Epoch 21/50\n",
      "1875/1875 [==============================] - 4s 2ms/step - loss: 0.3201 - accuracy: 0.8850 - val_loss: 0.3482 - val_accuracy: 0.8762\n",
      "Epoch 22/50\n",
      "1875/1875 [==============================] - 4s 2ms/step - loss: 0.3229 - accuracy: 0.8838 - val_loss: 0.3453 - val_accuracy: 0.8802\n",
      "Epoch 23/50\n",
      "1875/1875 [==============================] - 4s 2ms/step - loss: 0.3230 - accuracy: 0.8839 - val_loss: 0.3618 - val_accuracy: 0.8740\n",
      "Epoch 24/50\n",
      "1875/1875 [==============================] - 4s 2ms/step - loss: 0.3124 - accuracy: 0.8876 - val_loss: 0.3541 - val_accuracy: 0.8812\n",
      "Epoch 25/50\n",
      "1875/1875 [==============================] - 4s 2ms/step - loss: 0.3135 - accuracy: 0.8867 - val_loss: 0.3554 - val_accuracy: 0.8793\n",
      "Epoch 00025: early stopping\n"
     ]
    }
   ],
   "source": [
    "history = model.fit(train_ds, validation_data = test_ds, epochs = 50, \n",
    "                    callbacks=[stopper])"
   ]
  },
  {
   "cell_type": "code",
   "execution_count": 7,
   "metadata": {},
   "outputs": [
    {
     "data": {
      "text/plain": [
       "[<matplotlib.lines.Line2D at 0x2131f01af08>]"
      ]
     },
     "execution_count": 7,
     "metadata": {},
     "output_type": "execute_result"
    },
    {
     "data": {
      "image/png": "[encoded data removed]",
      "text/plain": [
       "<Figure size 432x288 with 1 Axes>"
      ]
     },
     "metadata": {
      "needs_background": "light"
     },
     "output_type": "display_data"
    }
   ],
   "source": [
    "loss = history.history['loss']\n",
    "val_loss = history.history['val_loss']\n",
    "\n",
    "plt.figure()\n",
    "plt.plot(loss, 'ro-')\n",
    "plt.plot(val_loss, 'bo-')"
   ]
  },
  {
   "cell_type": "code",
   "execution_count": null,
   "metadata": {},
   "outputs": [],
   "source": []
  },
  {
   "cell_type": "code",
   "execution_count": null,
   "metadata": {},
   "outputs": [],
   "source": []
  },
  {
   "cell_type": "code",
   "execution_count": null,
   "metadata": {},
   "outputs": [],
   "source": []
  }
 ],
 "metadata": {
  "kernelspec": {
   "display_name": "Python 3",
   "language": "python",
   "name": "python3"
  },
  "language_info": {
   "codemirror_mode": {
    "name": "ipython",
    "version": 3
   },
   "file_extension": ".py",
   "mimetype": "text/x-python",
   "name": "python",
   "nbconvert_exporter": "python",
   "pygments_lexer": "ipython3",
   "version": "3.7.9"
  }
 },
 "nbformat": 4,
 "nbformat_minor": 4
}
