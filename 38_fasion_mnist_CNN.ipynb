{
 "cells": [
  {
   "cell_type": "code",
   "execution_count": 1,
   "metadata": {},
   "outputs": [],
   "source": [
    "import tensorflow as tf\n",
    "import numpy as np\n",
    "\n",
    "from tensorflow.keras.layers import Conv2D, Flatten, Dense, MaxPool2D, Dropout\n"
   ]
  },
  {
   "cell_type": "code",
   "execution_count": 2,
   "metadata": {},
   "outputs": [],
   "source": [
    "def MyModel():\n",
    "    inlist = [Conv2D(64, (3,3), padding='same', activation = 'relu'),Dropout(0.25),\n",
    "             MaxPool2D(),\n",
    "             Conv2D(64, (3,3), padding='same', activation = 'relu'),Dropout(0.25),\n",
    "             MaxPool2D(),\n",
    "             Conv2D(64, (3,3), padding='same', activation = 'relu'),Dropout(0.25),\n",
    "             Flatten(),\n",
    "             Dense(128, activation = 'relu'), Dropout(0.25),\n",
    "             Dense(128, activation = 'relu'), Dropout(0.25),\n",
    "             Dense(10, activation = 'softmax')]\n",
    "    return tf.keras.models.Sequential(inlist)"
   ]
  },
  {
   "cell_type": "code",
   "execution_count": 3,
   "metadata": {},
   "outputs": [],
   "source": [
    "fashion_mnist = tf.keras.datasets.fashion_mnist\n",
    "\n",
    "(x_train, y_train), (x_test, y_test) = fashion_mnist.load_data()\n",
    "x_train, x_test = x_train/255.0, x_test/255.0\n",
    "\n",
    "x_train = x_train.astype(np.float32)\n",
    "x_test = x_test.astype(np.float32)\n",
    "\n",
    "x_train = x_train[...,np.newaxis]\n",
    "x_test = x_test[...,np.newaxis]\n",
    "\n",
    "train_ds = tf.data.Dataset.from_tensor_slices((x_train, y_train)).shuffle(10000).batch(32).prefetch(2048)\n",
    "test_ds = tf.data.Dataset.from_tensor_slices((x_test, y_test)).batch(32).prefetch(2048)\n"
   ]
  },
  {
   "cell_type": "code",
   "execution_count": 4,
   "metadata": {},
   "outputs": [],
   "source": [
    "model = MyModel()\n",
    "\n",
    "model.compile(optimizer = 'adam',\n",
    "             loss = 'sparse_categorical_crossentropy',\n",
    "             metrics = ['accuracy'])"
   ]
  },
  {
   "cell_type": "code",
   "execution_count": 5,
   "metadata": {},
   "outputs": [
    {
     "name": "stdout",
     "output_type": "stream",
     "text": [
      "Epoch 1/10\n",
      "1875/1875 [==============================] - 82s 44ms/step - loss: 0.5139 - accuracy: 0.8144 - val_loss: 0.0000e+00 - val_accuracy: 0.0000e+00\n",
      "Epoch 2/10\n",
      "1875/1875 [==============================] - 80s 43ms/step - loss: 0.3325 - accuracy: 0.8796 - val_loss: 0.3031 - val_accuracy: 0.8942\n",
      "Epoch 3/10\n",
      "1875/1875 [==============================] - 77s 41ms/step - loss: 0.2892 - accuracy: 0.8954 - val_loss: 0.2715 - val_accuracy: 0.9041\n",
      "Epoch 4/10\n",
      "1875/1875 [==============================] - 84s 45ms/step - loss: 0.2671 - accuracy: 0.9027 - val_loss: 0.2698 - val_accuracy: 0.9094\n",
      "Epoch 5/10\n",
      "1875/1875 [==============================] - 85s 45ms/step - loss: 0.2493 - accuracy: 0.9101 - val_loss: 0.2427 - val_accuracy: 0.9130\n",
      "Epoch 6/10\n",
      "1875/1875 [==============================] - 84s 45ms/step - loss: 0.2382 - accuracy: 0.9133 - val_loss: 0.2420 - val_accuracy: 0.9119\n",
      "Epoch 7/10\n",
      "1875/1875 [==============================] - 82s 44ms/step - loss: 0.2262 - accuracy: 0.9168 - val_loss: 0.2322 - val_accuracy: 0.9167\n",
      "Epoch 8/10\n",
      "1875/1875 [==============================] - 84s 45ms/step - loss: 0.2193 - accuracy: 0.9193 - val_loss: 0.2441 - val_accuracy: 0.9096\n",
      "Epoch 9/10\n",
      "1875/1875 [==============================] - 84s 45ms/step - loss: 0.2105 - accuracy: 0.9229 - val_loss: 0.2378 - val_accuracy: 0.9151\n",
      "Epoch 10/10\n",
      "1875/1875 [==============================] - 84s 45ms/step - loss: 0.2044 - accuracy: 0.9244 - val_loss: 0.2321 - val_accuracy: 0.9174\n"
     ]
    }
   ],
   "source": [
    "history = model.fit(train_ds, validation_data = test_ds, epochs = 10)"
   ]
  },
  {
   "cell_type": "code",
   "execution_count": null,
   "metadata": {},
   "outputs": [],
   "source": []
  },
  {
   "cell_type": "code",
   "execution_count": null,
   "metadata": {},
   "outputs": [],
   "source": []
  }
 ],
 "metadata": {
  "kernelspec": {
   "display_name": "Python 3",
   "language": "python",
   "name": "python3"
  },
  "language_info": {
   "codemirror_mode": {
    "name": "ipython",
    "version": 3
   },
   "file_extension": ".py",
   "mimetype": "text/x-python",
   "name": "python",
   "nbconvert_exporter": "python",
   "pygments_lexer": "ipython3",
   "version": "3.7.9"
  }
 },
 "nbformat": 4,
 "nbformat_minor": 4
}
