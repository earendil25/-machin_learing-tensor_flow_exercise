{
 "cells": [
  {
   "cell_type": "code",
   "execution_count": 1,
   "metadata": {},
   "outputs": [],
   "source": [
    "import tensorflow as tf\n",
    "import numpy as np"
   ]
  },
  {
   "cell_type": "code",
   "execution_count": 2,
   "metadata": {},
   "outputs": [],
   "source": [
    "x_train = 100.*np.random.sample(10**4)\n",
    "y_train = x_train.astype(int)\n",
    "\n",
    "x_test = 100.*np.random.sample(10**4)\n",
    "y_test = x_test.astype(int)\n",
    "\n",
    "train_ds = tf.data.Dataset.from_tensor_slices((x_train, y_train)).shuffle(1024).batch(32)\n",
    "test_ds = tf.data.Dataset.from_tensor_slices((x_test, y_test)).batch(32)"
   ]
  },
  {
   "cell_type": "code",
   "execution_count": 3,
   "metadata": {},
   "outputs": [],
   "source": [
    "EPOCHS = 100"
   ]
  },
  {
   "cell_type": "code",
   "execution_count": 4,
   "metadata": {},
   "outputs": [],
   "source": [
    "class MyModel(tf.keras.Model):\n",
    "    def __init__(self):\n",
    "        super().__init__()\n",
    "        self.flatten = tf.keras.layers.Flatten(input_shape=(1,1 ))\n",
    "        self.dense1 = tf.keras.layers.Dense(32, activation = 'relu')\n",
    "        self.dense2 = tf.keras.layers.Dense(64, activation = 'relu')\n",
    "        self.dense3 = tf.keras.layers.Dense(128, activation = 'relu')\n",
    "        self.dense4 = tf.keras.layers.Dense(256, activation = 'relu')\n",
    "        self.dense5 = tf.keras.layers.Dense(100, activation = 'softmax')\n",
    "        \n",
    "    def call(self, x, training=None, mask=None):\n",
    "        x = self.flatten(x)\n",
    "        x = self.dense1(x)\n",
    "        x = self.dense2(x)\n",
    "        x = self.dense3(x)\n",
    "        x = self.dense4(x)\n",
    "        x = self.dense5(x)\n",
    "        return x"
   ]
  },
  {
   "cell_type": "code",
   "execution_count": 5,
   "metadata": {},
   "outputs": [],
   "source": [
    "@tf.function\n",
    "def train_step(model, in_var, labels, loss_object, optimizer, \n",
    "               train_loss, train_accuracy):\n",
    "    with tf.GradientTape() as tape:\n",
    "        predictions = model(in_var)\n",
    "        loss = loss_object(labels, predictions)\n",
    "        \n",
    "    gradients = tape.gradient(loss, model.trainable_variables)\n",
    "    optimizer.apply_gradients(zip(gradients, model.trainable_variables))\n",
    "    \n",
    "    train_loss(loss)\n",
    "    train_accuracy(labels, predictions)"
   ]
  },
  {
   "cell_type": "code",
   "execution_count": 6,
   "metadata": {},
   "outputs": [],
   "source": [
    "@tf.function\n",
    "def test_step(model, in_var, labels, loss_object, test_loss, test_accuracy):\n",
    "    predictions = model(in_var)\n",
    "    loss = loss_object(labels, predictions)\n",
    "    \n",
    "    test_loss(loss)\n",
    "    test_accuracy(labels, predictions)"
   ]
  },
  {
   "cell_type": "code",
   "execution_count": 7,
   "metadata": {},
   "outputs": [],
   "source": [
    "model = MyModel()"
   ]
  },
  {
   "cell_type": "code",
   "execution_count": 8,
   "metadata": {},
   "outputs": [],
   "source": [
    "loss_object = tf.keras.losses.SparseCategoricalCrossentropy()\n",
    "optimizer = tf.keras.optimizers.Adam()"
   ]
  },
  {
   "cell_type": "code",
   "execution_count": 9,
   "metadata": {},
   "outputs": [],
   "source": [
    "train_loss = tf.keras.metrics.Mean(name = 'train_loss')\n",
    "train_accuracy = tf.keras.metrics.SparseCategoricalAccuracy(name = 'train_accuracy')\n",
    "\n",
    "test_loss = tf.keras. metrics.Mean(name = 'test_loss')\n",
    "test_accuracy = tf.keras.metrics.SparseCategoricalAccuracy(name = 'test_accuracy')"
   ]
  },
  {
   "cell_type": "code",
   "execution_count": 10,
   "metadata": {},
   "outputs": [
    {
     "name": "stdout",
     "output_type": "stream",
     "text": [
      "WARNING:tensorflow:Layer my_model is casting an input tensor from dtype float64 to the layer's dtype of float32, which is new behavior in TensorFlow 2.  The layer has dtype float32 because it's dtype defaults to floatx.\n",
      "\n",
      "If you intended to run this layer in float32, you can safely ignore this warning. If in doubt, this warning is likely only an issue if you are porting a TensorFlow 1.X model to TensorFlow 2.\n",
      "\n",
      "To change all layers to have dtype float64 by default, call `tf.keras.backend.set_floatx('float64')`. To change just this layer, pass dtype='float64' to the layer constructor. If you are the author of this layer, you can disable autocasting by passing autocast=False to the base Layer constructor.\n",
      "\n",
      "Epoch: 1, Loss: 4.1799235343933105, Acc: 0.03790000081062317, Test loss: 3.507280111312866, Test acc: 0.0763000026345253\n",
      "Epoch: 2, Loss: 3.0734500885009766, Acc: 0.12759999930858612, Test loss: 2.7857625484466553, Test acc: 0.1615000069141388\n",
      "Epoch: 3, Loss: 2.654762029647827, Acc: 0.17970000207424164, Test loss: 2.6768105030059814, Test acc: 0.163100004196167\n",
      "Epoch: 4, Loss: 2.4408762454986572, Acc: 0.20999999344348907, Test loss: 2.2329416275024414, Test acc: 0.25459998846054077\n",
      "Epoch: 5, Loss: 2.262324094772339, Acc: 0.23549999296665192, Test loss: 2.110595226287842, Test acc: 0.28369998931884766\n",
      "Epoch: 6, Loss: 2.1509227752685547, Acc: 0.2653000056743622, Test loss: 2.067077398300171, Test acc: 0.299699991941452\n",
      "Epoch: 7, Loss: 1.9935109615325928, Acc: 0.2944999933242798, Test loss: 1.9914305210113525, Test acc: 0.29660001397132874\n",
      "Epoch: 8, Loss: 1.9481587409973145, Acc: 0.3061000108718872, Test loss: 1.8785980939865112, Test acc: 0.30140000581741333\n",
      "Epoch: 9, Loss: 1.9164772033691406, Acc: 0.3125999867916107, Test loss: 1.7504266500473022, Test acc: 0.3562000095844269\n",
      "Epoch: 10, Loss: 1.8059641122817993, Acc: 0.33410000801086426, Test loss: 1.7896591424942017, Test acc: 0.36980000138282776\n",
      "Epoch: 11, Loss: 1.789524793624878, Acc: 0.3375999927520752, Test loss: 1.6573587656021118, Test acc: 0.38199999928474426\n",
      "Epoch: 12, Loss: 1.6942148208618164, Acc: 0.36809998750686646, Test loss: 1.615826964378357, Test acc: 0.3709999918937683\n",
      "Epoch: 13, Loss: 1.7536810636520386, Acc: 0.34709998965263367, Test loss: 1.5665972232818604, Test acc: 0.39089998602867126\n",
      "Epoch: 14, Loss: 1.6360048055648804, Acc: 0.37869998812675476, Test loss: 1.5861550569534302, Test acc: 0.40709999203681946\n",
      "Epoch: 15, Loss: 1.6232136487960815, Acc: 0.3788999915122986, Test loss: 1.6785619258880615, Test acc: 0.373199999332428\n",
      "Epoch: 16, Loss: 1.5802022218704224, Acc: 0.3880000114440918, Test loss: 1.524011492729187, Test acc: 0.38679999113082886\n",
      "Epoch: 17, Loss: 1.51611328125, Acc: 0.4169999957084656, Test loss: 1.4026601314544678, Test acc: 0.4456999897956848\n",
      "Epoch: 18, Loss: 1.527682900428772, Acc: 0.4106999933719635, Test loss: 1.4000436067581177, Test acc: 0.46630001068115234\n",
      "Epoch: 19, Loss: 1.581068515777588, Acc: 0.3855000138282776, Test loss: 1.6643468141555786, Test acc: 0.34470000863075256\n",
      "Epoch: 20, Loss: 1.4366824626922607, Acc: 0.4334000051021576, Test loss: 1.4281903505325317, Test acc: 0.3952000141143799\n",
      "Epoch: 21, Loss: 1.5488450527191162, Acc: 0.42320001125335693, Test loss: 1.4655219316482544, Test acc: 0.43290001153945923\n",
      "Epoch: 22, Loss: 1.4080660343170166, Acc: 0.4569999873638153, Test loss: 1.3374271392822266, Test acc: 0.4668000042438507\n",
      "Epoch: 23, Loss: 1.5541824102401733, Acc: 0.39320001006126404, Test loss: 1.3863972425460815, Test acc: 0.42010000348091125\n",
      "Epoch: 24, Loss: 1.4135338068008423, Acc: 0.4456000030040741, Test loss: 1.3514482975006104, Test acc: 0.4542999863624573\n",
      "Epoch: 25, Loss: 1.4019829034805298, Acc: 0.45170000195503235, Test loss: 1.2984615564346313, Test acc: 0.5059000253677368\n",
      "Epoch: 26, Loss: 1.3434512615203857, Acc: 0.4683000147342682, Test loss: 1.251318335533142, Test acc: 0.5126000046730042\n",
      "Epoch: 27, Loss: 1.4044322967529297, Acc: 0.43959999084472656, Test loss: 1.301591396331787, Test acc: 0.4844000041484833\n",
      "Epoch: 28, Loss: 1.3429681062698364, Acc: 0.47609999775886536, Test loss: 1.2225944995880127, Test acc: 0.5267999768257141\n",
      "Epoch: 29, Loss: 1.3099806308746338, Acc: 0.4717999994754791, Test loss: 1.6442638635635376, Test acc: 0.3325999975204468\n",
      "Epoch: 30, Loss: 1.3311688899993896, Acc: 0.4715999960899353, Test loss: 1.2947006225585938, Test acc: 0.4609000086784363\n",
      "Epoch: 31, Loss: 1.3755921125411987, Acc: 0.46549999713897705, Test loss: 1.2120622396469116, Test acc: 0.5396000146865845\n",
      "Epoch: 32, Loss: 1.3793716430664062, Acc: 0.4611999988555908, Test loss: 1.3247411251068115, Test acc: 0.4765999913215637\n",
      "Epoch: 33, Loss: 1.276124358177185, Acc: 0.47609999775886536, Test loss: 1.1339775323867798, Test acc: 0.5853999853134155\n",
      "Epoch: 34, Loss: 1.3659332990646362, Acc: 0.46239998936653137, Test loss: 1.467240333557129, Test acc: 0.3808000087738037\n",
      "Epoch: 35, Loss: 1.2901747226715088, Acc: 0.4772999882698059, Test loss: 1.2055939435958862, Test acc: 0.5015000104904175\n",
      "Epoch: 36, Loss: 1.2268176078796387, Acc: 0.4932999908924103, Test loss: 1.141179084777832, Test acc: 0.5498999953269958\n",
      "Epoch: 37, Loss: 1.2626316547393799, Acc: 0.48730000853538513, Test loss: 1.8114323616027832, Test acc: 0.31060001254081726\n",
      "Epoch: 38, Loss: 1.3072619438171387, Acc: 0.46869999170303345, Test loss: 1.1538327932357788, Test acc: 0.5350000262260437\n",
      "Epoch: 39, Loss: 1.1964030265808105, Acc: 0.5090000033378601, Test loss: 1.1225841045379639, Test acc: 0.5403000116348267\n",
      "Epoch: 40, Loss: 1.163072943687439, Acc: 0.5249000191688538, Test loss: 1.222591757774353, Test acc: 0.4885999858379364\n",
      "Epoch: 41, Loss: 1.204300045967102, Acc: 0.5095000267028809, Test loss: 1.2580218315124512, Test acc: 0.4690999984741211\n",
      "Epoch: 42, Loss: 1.2182365655899048, Acc: 0.5019000172615051, Test loss: 1.1364752054214478, Test acc: 0.5375000238418579\n",
      "Epoch: 43, Loss: 1.3231160640716553, Acc: 0.4871000051498413, Test loss: 1.0987653732299805, Test acc: 0.5223000049591064\n",
      "Epoch: 44, Loss: 1.2752089500427246, Acc: 0.49790000915527344, Test loss: 1.5065442323684692, Test acc: 0.3720000088214874\n",
      "Epoch: 45, Loss: 1.175022840499878, Acc: 0.5135999917984009, Test loss: 1.0689550638198853, Test acc: 0.544700026512146\n",
      "Epoch: 46, Loss: 1.1698428392410278, Acc: 0.5128999948501587, Test loss: 1.0612528324127197, Test acc: 0.5807999968528748\n",
      "Epoch: 47, Loss: 1.227756142616272, Acc: 0.4943999946117401, Test loss: 1.0567519664764404, Test acc: 0.5516999959945679\n",
      "Epoch: 48, Loss: 1.1093164682388306, Acc: 0.5378000140190125, Test loss: 1.0641471147537231, Test acc: 0.5486999750137329\n",
      "Epoch: 49, Loss: 1.1738895177841187, Acc: 0.5163999795913696, Test loss: 1.0544047355651855, Test acc: 0.5532000064849854\n",
      "Epoch: 50, Loss: 1.1923514604568481, Acc: 0.5103999972343445, Test loss: 1.291622519493103, Test acc: 0.4652000069618225\n",
      "Epoch: 51, Loss: 1.1408414840698242, Acc: 0.5360000133514404, Test loss: 1.624525785446167, Test acc: 0.3402999937534332\n",
      "Epoch: 52, Loss: 1.1230515241622925, Acc: 0.5313000082969666, Test loss: 1.266662359237671, Test acc: 0.45660001039505005\n",
      "Epoch: 53, Loss: 1.1302008628845215, Acc: 0.5267999768257141, Test loss: 1.062472939491272, Test acc: 0.5368000268936157\n",
      "Epoch: 54, Loss: 1.149986982345581, Acc: 0.5145999789237976, Test loss: 1.99087655544281, Test acc: 0.3440000116825104\n",
      "Epoch: 55, Loss: 1.2309792041778564, Acc: 0.5133000016212463, Test loss: 1.1321698427200317, Test acc: 0.5478000044822693\n",
      "Epoch: 56, Loss: 1.1290452480316162, Acc: 0.5356000065803528, Test loss: 0.9836119413375854, Test acc: 0.5945000052452087\n",
      "Epoch: 57, Loss: 1.2091906070709229, Acc: 0.5205000042915344, Test loss: 0.9776837825775146, Test acc: 0.6111999750137329\n",
      "Epoch: 58, Loss: 1.0984981060028076, Acc: 0.5475999712944031, Test loss: 0.9481850266456604, Test acc: 0.6184999942779541\n",
      "Epoch: 59, Loss: 1.0938405990600586, Acc: 0.5432000160217285, Test loss: 1.178887963294983, Test acc: 0.48080000281333923\n",
      "Epoch: 60, Loss: 1.1679519414901733, Acc: 0.5056999921798706, Test loss: 1.1133880615234375, Test acc: 0.5242999792098999\n",
      "Epoch: 61, Loss: 0.9813974499702454, Acc: 0.5906000137329102, Test loss: 0.9616435170173645, Test acc: 0.6165000200271606\n",
      "Epoch: 62, Loss: 1.0556215047836304, Acc: 0.5494999885559082, Test loss: 1.1763675212860107, Test acc: 0.4620000123977661\n",
      "Epoch: 63, Loss: 1.0764667987823486, Acc: 0.5446000099182129, Test loss: 1.1036739349365234, Test acc: 0.5069000124931335\n",
      "Epoch: 64, Loss: 1.1217138767242432, Acc: 0.5314000248908997, Test loss: 1.093172550201416, Test acc: 0.5091000199317932\n",
      "Epoch: 65, Loss: 1.0443511009216309, Acc: 0.5478000044822693, Test loss: 1.026962399482727, Test acc: 0.5450999736785889\n",
      "Epoch: 66, Loss: 1.1169743537902832, Acc: 0.5415999889373779, Test loss: 3.9955568313598633, Test acc: 0.24490000307559967\n",
      "Epoch: 67, Loss: 1.2112535238265991, Acc: 0.5404000282287598, Test loss: 0.9491321444511414, Test acc: 0.5917999744415283\n",
      "Epoch: 68, Loss: 1.0152734518051147, Acc: 0.5692999958992004, Test loss: 1.0456138849258423, Test acc: 0.5364000201225281\n",
      "Epoch: 69, Loss: 1.0446912050247192, Acc: 0.5612999796867371, Test loss: 2.778672218322754, Test acc: 0.26269999146461487\n",
      "Epoch: 70, Loss: 1.1013411283493042, Acc: 0.5515999794006348, Test loss: 0.9008393287658691, Test acc: 0.6039999723434448\n",
      "Epoch: 71, Loss: 0.9983193874359131, Acc: 0.5698999762535095, Test loss: 1.034347414970398, Test acc: 0.5130000114440918\n",
      "Epoch: 72, Loss: 0.9828055500984192, Acc: 0.58160001039505, Test loss: 0.9117512702941895, Test acc: 0.626800000667572\n",
      "Epoch: 73, Loss: 1.031888484954834, Acc: 0.5601000189781189, Test loss: 0.9666787981987, Test acc: 0.6068000197410583\n",
      "Epoch: 74, Loss: 1.0712487697601318, Acc: 0.5598999857902527, Test loss: 0.9272397756576538, Test acc: 0.6280999779701233\n",
      "Epoch: 75, Loss: 1.0089107751846313, Acc: 0.5778999924659729, Test loss: 0.8508620858192444, Test acc: 0.6164000034332275\n",
      "Epoch: 76, Loss: 0.9813753962516785, Acc: 0.5856000185012817, Test loss: 0.9068859815597534, Test acc: 0.603600025177002\n",
      "Epoch: 77, Loss: 1.0100380182266235, Acc: 0.5723999738693237, Test loss: 0.9479331374168396, Test acc: 0.565500020980835\n",
      "Epoch: 78, Loss: 1.0356427431106567, Acc: 0.5622000098228455, Test loss: 0.8868005275726318, Test acc: 0.6044999957084656\n",
      "Epoch: 79, Loss: 1.0442386865615845, Acc: 0.5555999875068665, Test loss: 0.952133297920227, Test acc: 0.5866000056266785\n",
      "Epoch: 80, Loss: 1.0095406770706177, Acc: 0.5667999982833862, Test loss: 0.8122202754020691, Test acc: 0.7243000268936157\n",
      "Epoch: 81, Loss: 1.1056939363479614, Acc: 0.5515000224113464, Test loss: 1.0954043865203857, Test acc: 0.5120999813079834\n",
      "Epoch: 82, Loss: 0.9112496972084045, Acc: 0.6105999946594238, Test loss: 0.9284008145332336, Test acc: 0.5859000086784363\n",
      "Epoch: 83, Loss: 0.9511272311210632, Acc: 0.5902000069618225, Test loss: 0.8648133873939514, Test acc: 0.6154000163078308\n",
      "Epoch: 84, Loss: 0.953421413898468, Acc: 0.5889000296592712, Test loss: 0.8653806447982788, Test acc: 0.6116999983787537\n",
      "Epoch: 85, Loss: 0.914954423904419, Acc: 0.6003000140190125, Test loss: 0.7439098358154297, Test acc: 0.7185999751091003\n",
      "Epoch: 86, Loss: 1.0625547170639038, Acc: 0.5619000196456909, Test loss: 1.388677716255188, Test acc: 0.4323999881744385\n",
      "Epoch: 87, Loss: 0.9196078181266785, Acc: 0.5902000069618225, Test loss: 0.8782334923744202, Test acc: 0.6089000105857849\n",
      "Epoch: 88, Loss: 1.0373724699020386, Acc: 0.5623000264167786, Test loss: 0.8757660388946533, Test acc: 0.6378999948501587\n",
      "Epoch: 89, Loss: 0.8941167593002319, Acc: 0.611299991607666, Test loss: 0.8205438852310181, Test acc: 0.617900013923645\n",
      "Epoch: 90, Loss: 0.895340085029602, Acc: 0.608299970626831, Test loss: 0.9113803505897522, Test acc: 0.5705999732017517\n",
      "Epoch: 91, Loss: 0.935651421546936, Acc: 0.593500018119812, Test loss: 0.9843605756759644, Test acc: 0.5547000169754028\n",
      "Epoch: 92, Loss: 0.9657267928123474, Acc: 0.5918999910354614, Test loss: 0.9532067179679871, Test acc: 0.5961999893188477\n",
      "Epoch: 93, Loss: 0.8998792171478271, Acc: 0.6067000031471252, Test loss: 1.7242164611816406, Test acc: 0.4138000011444092\n",
      "Epoch: 94, Loss: 0.9951026439666748, Acc: 0.5906000137329102, Test loss: 2.7671661376953125, Test acc: 0.30889999866485596\n",
      "Epoch: 95, Loss: 0.9552778005599976, Acc: 0.5999000072479248, Test loss: 0.7698183655738831, Test acc: 0.6592000126838684\n",
      "Epoch: 96, Loss: 0.931625485420227, Acc: 0.6018999814987183, Test loss: 0.735444962978363, Test acc: 0.6991999745368958\n",
      "Epoch: 97, Loss: 0.7817751169204712, Acc: 0.6660000085830688, Test loss: 0.7627304792404175, Test acc: 0.6552000045776367\n",
      "Epoch: 98, Loss: 1.0183610916137695, Acc: 0.5845999717712402, Test loss: 0.7428308129310608, Test acc: 0.6733999848365784\n",
      "Epoch: 99, Loss: 0.9549733996391296, Acc: 0.5774000287055969, Test loss: 1.1407512426376343, Test acc: 0.517300009727478\n",
      "Epoch: 100, Loss: 0.8642260432243347, Acc: 0.6193000078201294, Test loss: 1.3115897178649902, Test acc: 0.39489999413490295\n"
     ]
    }
   ],
   "source": [
    "for epoch in range(EPOCHS):\n",
    "    for in_var, labels in train_ds:\n",
    "        train_step(model, in_var, labels, loss_object, optimizer, \n",
    "               train_loss, train_accuracy)\n",
    "        \n",
    "    for in_var, labels in test_ds:\n",
    "        test_step(model, in_var, labels, loss_object, test_loss, test_accuracy)\n",
    "        \n",
    "    template = 'Epoch: {}, Loss: {}, Acc: {}, Test loss: {}, Test acc: {}'\n",
    "    print(template.format(epoch+1,\n",
    "                          train_loss.result(),\n",
    "                         train_accuracy.result(),\n",
    "                         test_loss.result(),\n",
    "                         test_accuracy.result()))\n",
    "    \n",
    "    train_loss.reset_states()\n",
    "    train_accuracy.reset_states()\n",
    "    test_loss.reset_states()\n",
    "    test_accuracy.reset_states()"
   ]
  },
  {
   "cell_type": "code",
   "execution_count": null,
   "metadata": {},
   "outputs": [],
   "source": []
  },
  {
   "cell_type": "code",
   "execution_count": null,
   "metadata": {},
   "outputs": [],
   "source": []
  },
  {
   "cell_type": "code",
   "execution_count": null,
   "metadata": {},
   "outputs": [],
   "source": []
  },
  {
   "cell_type": "code",
   "execution_count": null,
   "metadata": {},
   "outputs": [],
   "source": []
  },
  {
   "cell_type": "code",
   "execution_count": null,
   "metadata": {},
   "outputs": [],
   "source": []
  },
  {
   "cell_type": "code",
   "execution_count": null,
   "metadata": {},
   "outputs": [],
   "source": []
  }
 ],
 "metadata": {
  "kernelspec": {
   "display_name": "Python 3",
   "language": "python",
   "name": "python3"
  },
  "language_info": {
   "codemirror_mode": {
    "name": "ipython",
    "version": 3
   },
   "file_extension": ".py",
   "mimetype": "text/x-python",
   "name": "python",
   "nbconvert_exporter": "python",
   "pygments_lexer": "ipython3",
   "version": "3.7.9"
  }
 },
 "nbformat": 4,
 "nbformat_minor": 4
}
